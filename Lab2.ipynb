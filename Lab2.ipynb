{
 "cells": [
  {
   "cell_type": "markdown",
   "metadata": {},
   "source": [
    "# Lab 2\n",
    "\n",
    "\n",
    "## In this lab please write a simple character, word, and line count function and test it on a couple of files\n",
    "\n",
    "\n",
    "## Some useful background material:\n",
    "\n",
    "The <a href=\"https://the-examples-book.com/book/introduction\" target=\"_blank\">Purdue Data Mine Examples Book</a> contains many useful chapters on data science. While they have not been directly designed for this class, they may be useful. You will not need to use scholar to perform the exercises of this class so don't worry about that part. Here is a direct link to the <a href=\"https://the-examples-book.com/book/python/introduction\" target=\"_blank\">Python chapter.</a>\n",
    "\n",
    "\n",
    "Additional useful links for Python include:\n",
    "\n",
    "<a href=\"https://docs.python.org/3/\" target=\"_blank\">Python 3.9.4 documentation</a>\n",
    "\n",
    "The <a href=\"https://pypi.org/\" target=\"_blank\">Python Package Index</a> (This contains many of the useful Python \"add-on\" packages such as the math package)\n",
    "\n",
    "The <a href=\"https://numpy.org/\" target=\"_blank\">Numpy Package</a> (This contains specialized array (vector and matrix) routines. Numpy stands for \"Numerical Python\")\n",
    "\n",
    "United States Department of Agriculture: <a href=\"https://quickstats.nass.usda.gov/\" target=\"_blank\">Quick Stats</a> (The USDA's National Ag Statistics Service -- go here and familiarize yourself with the available data)"
   ]
  },
  {
   "cell_type": "code",
   "execution_count": 36,
   "metadata": {},
   "outputs": [],
   "source": [
    "# Import packages ...\n",
    "import numpy as np\n",
    "import matplotlib as mpl\n",
    "import matplotlib.pyplot as plt"
   ]
  },
  {
   "cell_type": "markdown",
   "metadata": {},
   "source": [
    "## A Python Function to count characters, words, and lines in a file\n",
    "\n",
    "Takes a file located in the current working directory. Reads it. And counts these items printing the numbers to standard output ..."
   ]
  },
  {
   "cell_type": "code",
   "execution_count": 59,
   "metadata": {},
   "outputs": [],
   "source": [
    "# Skeleton of the function to write ...\n",
    "\n",
    "def PoorMansWordCount(file_name):\n",
    "    \n",
    "    fin =open(file_name, \"r\") # open the given file name for reading only\n",
    "    \n",
    "    # initialize three variables to zero for holding the numbers of characters, words, and lines\n",
    "    \n",
    "    Nchar = 0\n",
    "    Nword = 0\n",
    "    Nlines = 0\n",
    "    Nsentences = 0\n",
    "    \n",
    "    for line in fin:\n",
    "        Nlines += 1  # Everytime we read a line, we count it ...\n",
    "        Nsentences += len(line.split('.'))\n",
    "        Nchar += len(line)         # increment by the length of the line you just read ...\n",
    "        Nword += len(line.split())  # increment of the length of the list you get by splitting the line on whitespace\n",
    "\n",
    "    print(f'Number of lines in {file_name} is {Nlines}.')     \n",
    "    print(f'Number of words in {file_name} is {Nword}.')     \n",
    "    print(f'Number of characters in {file_name} is {Nchar}.')     \n",
    "    print(f'Number of sentences in {file_name} is {Nsentences}.')\n",
    "    return None"
   ]
  },
  {
   "cell_type": "code",
   "execution_count": 61,
   "metadata": {},
   "outputs": [
    {
     "name": "stdout",
     "output_type": "stream",
     "text": [
      "Number of lines in Data/PLimerick is 8.\n",
      "Number of words in Data/PLimerick is 42.\n",
      "Number of characters in Data/PLimerick is 191.\n",
      "Number of sentences in Data/PLimerick is 9.\n"
     ]
    }
   ],
   "source": [
    "# Test your solution on the PLimerick file ...\n",
    "\n",
    "PoorMansWordCount('Data/PLimerick')"
   ]
  },
  {
   "cell_type": "code",
   "execution_count": 63,
   "metadata": {},
   "outputs": [
    {
     "name": "stdout",
     "output_type": "stream",
     "text": [
      "Number of lines in Data/ObamaFirstInagural.tex is 183.\n",
      "Number of words in Data/ObamaFirstInagural.tex is 2423.\n",
      "Number of characters in Data/ObamaFirstInagural.tex is 13548.\n",
      "Number of sentences in Data/ObamaFirstInagural.tex is 296.\n"
     ]
    }
   ],
   "source": [
    "# Test your solution on President Obama's First Inagural Speech\n",
    "\n",
    "PoorMansWordCount('Data/ObamaFirstInagural.tex')"
   ]
  },
  {
   "cell_type": "code",
   "execution_count": null,
   "metadata": {},
   "outputs": [],
   "source": []
  },
  {
   "cell_type": "code",
   "execution_count": null,
   "metadata": {},
   "outputs": [],
   "source": []
  }
 ],
 "metadata": {
  "kernelspec": {
   "display_name": "anaconda-panel-2023.05-py310",
   "language": "python",
   "name": "conda-env-anaconda-panel-2023.05-py310-py"
  },
  "language_info": {
   "codemirror_mode": {
    "name": "ipython",
    "version": 3
   },
   "file_extension": ".py",
   "mimetype": "text/x-python",
   "name": "python",
   "nbconvert_exporter": "python",
   "pygments_lexer": "ipython3",
   "version": "3.11.5"
  }
 },
 "nbformat": 4,
 "nbformat_minor": 4
}
